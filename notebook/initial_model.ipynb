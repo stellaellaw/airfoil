# 01_initial_model.ipynb

# 1. Imports
import numpy as np
import pandas as pd
import tensorflow as tf
from tensorflow import keras
from sklearn.model_selection import train_test_split
from sklearn.preprocessing import StandardScaler
import matplotlib.pyplot as plt

# 2. Load data (replace 'data/airfoil_data.csv' with your dataset path)
data = pd.read_csv('data/airfoil_data.csv')

# Inspect data
print(data.head())

# 3. Preprocess data
X = data[['param1', 'param2', 'param3']]  # replace with your actual feature columns
y = data[['Cl', 'Cd']]

# Split data
X_train, X_test, y_train, y_test = train_test_split(X, y, test_size=0.2, random_state=42)

# Normalize features
scaler = StandardScaler()
X_train = scaler.fit_transform(X_train)
X_test = scaler.transform(X_test)

# 4. Build model
model = keras.Sequential([
    keras.layers.Dense(64, activation='relu', input_shape=(X_train.shape[1],)),
    keras.layers.Dense(64, activation='relu'),
    keras.layers.Dense(2)  # Output layer for Cl and Cd
])

model.compile(optimizer='adam', loss='mse', metrics=['mae'])
model.summary()

# 5. Train model
history = model.fit(X_train, y_train, epochs=100, validation_split=0.2)

# 6. Evaluate model
loss, mae = model.evaluate(X_test, y_test)
print(f'Test MAE: {mae}')

# 7. Save results
model.save('src/airfoil_model.h5')

# ADD ACTUAL PARAMTERS OF AIRFOIL
